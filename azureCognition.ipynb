{
 "cells": [
  {
   "cell_type": "code",
   "execution_count": 5,
   "metadata": {},
   "outputs": [],
   "source": [
    "from azure.ai.textanalytics import TextAnalyticsClient\n",
    "from azure.core.credentials import AzureKeyCredential\n",
    "from azure.core.credentials import AzureKeyCredential\n",
    "from azure.ai.textanalytics import TextAnalyticsClient, ExtractSummaryAction\n",
    "from dotenv import load_dotenv\n",
    "import os"
   ]
  },
  {
   "cell_type": "code",
   "execution_count": 6,
   "metadata": {},
   "outputs": [],
   "source": [
    "\n",
    "load_dotenv()\n",
    "key1 = os.getenv('key1')\n",
    "key2 = os.getenv('key2')\n",
    "endpoint = os.getenv('endpoint')"
   ]
  },
  {
   "cell_type": "code",
   "execution_count": 7,
   "metadata": {},
   "outputs": [],
   "source": [
    "# Authenticate the client using your key and endpoint \n",
    "def authenticate_client():\n",
    "    ta_credential = AzureKeyCredential(key1)\n",
    "    text_analytics_client = TextAnalyticsClient(\n",
    "            endpoint=endpoint, \n",
    "            credential=ta_credential)\n",
    "    return text_analytics_client\n",
    "\n",
    "client = authenticate_client()"
   ]
  },
  {
   "cell_type": "code",
   "execution_count": 8,
   "metadata": {},
   "outputs": [],
   "source": [
    "document = [\n",
    "        \"\"\"Le groupe Bolloré a décidé de lancer une offre de rachat sur 9,78% de son propre capital, ce qui entraînera mécaniquement une augmentation de la participation de la famille Bolloré. Et réduit la probabilité d'une offre publique d'achat sur Vivendi à court terme.\"\"\"\n",
    "\n",
    "        \"\"\"Le groupe Bolloré possède des moyens financiers conséquents. La société détenue et contrôlée par l'homme d'affaires Vincent Bolloré et sa famille a dévoilé mardi soir ses résultats, avec un bénéfice de 3,4 milliards d'euros.\"\"\"\n",
    "            ]"
   ]
  },
  {
   "cell_type": "code",
   "execution_count": 12,
   "metadata": {},
   "outputs": [],
   "source": [
    "# Example method for summarizing text\n",
    "def sample_extractive_summarization(client):\n",
    "    poller = client.begin_analyze_actions(\n",
    "        document,\n",
    "        actions=[\n",
    "            ExtractSummaryAction(max_sentence_count=4)\n",
    "        ],\n",
    "    )\n",
    "\n",
    "    document_results = poller.result()\n",
    "    for result in document_results:\n",
    "        extract_summary_result = result[0]  # first document, first result\n",
    "        if extract_summary_result.is_error:\n",
    "            print(\"...Is an error with code '{}' and message '{}'\".format(\n",
    "                extract_summary_result.code, extract_summary_result.message\n",
    "            ))\n",
    "        else :\n",
    "            summarization = \"{}\".format(\" \".join([sentence.text for sentence in extract_summary_result.sentences]))\n",
    "            return summarization"
   ]
  },
  {
   "cell_type": "code",
   "execution_count": 13,
   "metadata": {},
   "outputs": [
    {
     "data": {
      "text/plain": [
       "\"Le groupe Bolloré a décidé de lancer une offre de rachat sur 9,78% de son propre capital, ce qui entraînera mécaniquement une augmentation de la participation de la famille Bolloré. Et réduit la probabilité d'une offre publique d'achat sur Vivendi à court terme. Le groupe Bolloré possède des moyens financiers conséquents. La société détenue et contrôlée par l'homme d'affaires Vincent Bolloré et sa famille a dévoilé mardi soir ses résultats, avec un bénéfice de 3,4 milliards d'euros.\""
      ]
     },
     "execution_count": 13,
     "metadata": {},
     "output_type": "execute_result"
    }
   ],
   "source": [
    "sample_extractive_summarization(client)"
   ]
  }
 ],
 "metadata": {
  "kernelspec": {
   "display_name": "Python 3",
   "language": "python",
   "name": "python3"
  },
  "language_info": {
   "codemirror_mode": {
    "name": "ipython",
    "version": 3
   },
   "file_extension": ".py",
   "mimetype": "text/x-python",
   "name": "python",
   "nbconvert_exporter": "python",
   "pygments_lexer": "ipython3",
   "version": "3.10.8"
  },
  "orig_nbformat": 4
 },
 "nbformat": 4,
 "nbformat_minor": 2
}
